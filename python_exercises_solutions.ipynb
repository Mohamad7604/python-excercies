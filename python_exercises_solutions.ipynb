{
 "cells": [
  {
   "cell_type": "code",
   "execution_count": null,
   "id": "77a4e3f3",
   "metadata": {},
   "outputs": [],
   "source": [
    "# ==========================\n",
    "# Python Exercises Solutions\n",
    "# ==========================\n",
    "# This notebook contains solutions for Easy, Medium, and Hard-level exercises\n",
    "# from the given instructions. Each cell has clear explanations in comments."
   ]
  },
  {
   "cell_type": "code",
   "execution_count": null,
   "id": "f32598e3",
   "metadata": {},
   "outputs": [],
   "source": [
    "# --------------------------\n",
    "# Easy - Exercise 1\n",
    "# --------------------------\n",
    "# Ask user for name and age, then print a formatted string."
   ]
  },
  {
   "cell_type": "code",
   "execution_count": null,
   "id": "6cc0d7eb",
   "metadata": {},
   "outputs": [],
   "source": [
    "name = input(\"Enter your name: \")\n",
    "age = input(\"Enter your age: \")\n",
    "print(f\"The user {name} is {age} years old\")"
   ]
  },
  {
   "cell_type": "code",
   "execution_count": null,
   "id": "a9ab5521",
   "metadata": {},
   "outputs": [],
   "source": [
    "# --------------------------\n",
    "# Easy - Exercise 2\n",
    "# --------------------------\n",
    "# Check if a number is even, odd, or multiple of 4.\n",
    "# Extras: Check divisibility between two numbers."
   ]
  },
  {
   "cell_type": "code",
   "execution_count": null,
   "id": "8f34df90",
   "metadata": {},
   "outputs": [],
   "source": [
    "num = int(input(\"Enter a number: \"))"
   ]
  },
  {
   "cell_type": "code",
   "execution_count": null,
   "id": "94fb7698",
   "metadata": {},
   "outputs": [],
   "source": [
    "if num % 4 == 0:\n",
    "    print(\"The number is a multiple of 4\")\n",
    "elif num % 2 == 0:\n",
    "    print(\"The number is even\")\n",
    "else:\n",
    "    print(\"The number is odd\")"
   ]
  },
  {
   "cell_type": "code",
   "execution_count": null,
   "id": "517f07d1",
   "metadata": {},
   "outputs": [],
   "source": [
    "# Extras\n",
    "num_to_check = int(input(\"Enter number to check: \"))\n",
    "check = int(input(\"Enter number to divide by: \"))"
   ]
  },
  {
   "cell_type": "code",
   "execution_count": null,
   "id": "7db01a62",
   "metadata": {},
   "outputs": [],
   "source": [
    "if num_to_check % check == 0:\n",
    "    print(f\"{check} divides evenly into {num_to_check}\")\n",
    "else:\n",
    "    print(f\"{check} does NOT divide evenly into {num_to_check}\")"
   ]
  },
  {
   "cell_type": "code",
   "execution_count": null,
   "id": "32557136",
   "metadata": {},
   "outputs": [],
   "source": [
    "# --------------------------\n",
    "# Easy - Exercise 3\n",
    "# --------------------------\n",
    "# Return a list containing the first and last elements of a given list."
   ]
  },
  {
   "cell_type": "code",
   "execution_count": null,
   "id": "53c82c1c",
   "metadata": {},
   "outputs": [],
   "source": [
    "def first_last_elements(lst):\n",
    "    return [lst[0], lst[-1]]"
   ]
  },
  {
   "cell_type": "code",
   "execution_count": null,
   "id": "9c0088df",
   "metadata": {},
   "outputs": [],
   "source": [
    "a = [5, 10, 15, 20, 25]\n",
    "print(first_last_elements(a))"
   ]
  },
  {
   "cell_type": "code",
   "execution_count": null,
   "id": "505fb9ce",
   "metadata": {},
   "outputs": [],
   "source": [
    "# --------------------------\n",
    "# Easy - Exercise 4\n",
    "# --------------------------\n",
    "# Function to check if a number exists in an ordered list."
   ]
  },
  {
   "cell_type": "code",
   "execution_count": null,
   "id": "450bbcb4",
   "metadata": {},
   "outputs": [],
   "source": [
    "def element_search(ordered_list, element):\n",
    "    return element in ordered_list"
   ]
  },
  {
   "cell_type": "code",
   "execution_count": null,
   "id": "e1733d49",
   "metadata": {},
   "outputs": [],
   "source": [
    "my_list = [1, 3, 5, 7, 9, 11]\n",
    "print(element_search(my_list, 7))  # Expected True\n",
    "print(element_search(my_list, 4))  # Expected False"
   ]
  },
  {
   "cell_type": "code",
   "execution_count": null,
   "id": "3c4574b1",
   "metadata": {},
   "outputs": [],
   "source": [
    "# --------------------------\n",
    "# Medium - Exercise 1\n",
    "# --------------------------\n",
    "# Find all unique triplets that sum to zero."
   ]
  },
  {
   "cell_type": "code",
   "execution_count": null,
   "id": "0586794d",
   "metadata": {},
   "outputs": [],
   "source": [
    "def three_sum(nums):\n",
    "    nums.sort()\n",
    "    result = []\n",
    "    for i in range(len(nums) - 2):\n",
    "        if i > 0 and nums[i] == nums[i - 1]:\n",
    "            continue\n",
    "        left, right = i + 1, len(nums) - 1\n",
    "        while left < right:\n",
    "            total = nums[i] + nums[left] + nums[right]\n",
    "            if total == 0:\n",
    "                result.append([nums[i], nums[left], nums[right]])\n",
    "                while left < right and nums[left] == nums[left + 1]:\n",
    "                    left += 1\n",
    "                while left < right and nums[right] == nums[right - 1]:\n",
    "                    right -= 1\n",
    "                left += 1\n",
    "                right -= 1\n",
    "            elif total < 0:\n",
    "                left += 1\n",
    "            else:\n",
    "                right -= 1\n",
    "    return result"
   ]
  },
  {
   "cell_type": "code",
   "execution_count": null,
   "id": "d42bd5b5",
   "metadata": {},
   "outputs": [],
   "source": [
    "print(three_sum([-1, 0, 1, 2, -1, -4]))"
   ]
  },
  {
   "cell_type": "code",
   "execution_count": null,
   "id": "d16799ee",
   "metadata": {},
   "outputs": [],
   "source": [
    "# --------------------------\n",
    "# Medium - Exercise 2\n",
    "# --------------------------\n",
    "# Count word occurrences in a text (case-insensitive)."
   ]
  },
  {
   "cell_type": "code",
   "execution_count": null,
   "id": "7949ec27",
   "metadata": {},
   "outputs": [],
   "source": [
    "def count_words(text):\n",
    "    words = text.lower().split()\n",
    "    word_count = {}\n",
    "    for word in words:\n",
    "        word_count[word] = word_count.get(word, 0) + 1\n",
    "    return word_count"
   ]
  },
  {
   "cell_type": "code",
   "execution_count": null,
   "id": "bfb0bed9",
   "metadata": {},
   "outputs": [],
   "source": [
    "text = \"AI is the future. The future is now.\"\n",
    "print(count_words(text))"
   ]
  },
  {
   "cell_type": "code",
   "execution_count": null,
   "id": "6950d239",
   "metadata": {},
   "outputs": [],
   "source": [
    "# --------------------------\n",
    "# Medium - Exercise 3\n",
    "# --------------------------\n",
    "# Basic library system with classes."
   ]
  },
  {
   "cell_type": "code",
   "execution_count": null,
   "id": "62538ce7",
   "metadata": {},
   "outputs": [],
   "source": [
    "class Book:\n",
    "    def __init__(self, title, author, year):\n",
    "        self.title = title\n",
    "        self.author = author\n",
    "        self.year = year\n",
    "        self.is_checked_out = False"
   ]
  },
  {
   "cell_type": "code",
   "execution_count": null,
   "id": "a7d5d2fa",
   "metadata": {},
   "outputs": [],
   "source": [
    "    def checkout(self):\n",
    "        self.is_checked_out = True"
   ]
  },
  {
   "cell_type": "code",
   "execution_count": null,
   "id": "ac4a3263",
   "metadata": {},
   "outputs": [],
   "source": [
    "    def return_book(self):\n",
    "        self.is_checked_out = False"
   ]
  },
  {
   "cell_type": "code",
   "execution_count": null,
   "id": "df8a6831",
   "metadata": {},
   "outputs": [],
   "source": [
    "    def __str__(self):\n",
    "        return f\"{self.title} by {self.author} ({self.year}) (Checked out: {self.is_checked_out})\""
   ]
  },
  {
   "cell_type": "code",
   "execution_count": null,
   "id": "f51fa31b",
   "metadata": {},
   "outputs": [],
   "source": [
    "class Library:\n",
    "    def __init__(self):\n",
    "        self.collection = []"
   ]
  },
  {
   "cell_type": "code",
   "execution_count": null,
   "id": "00fbfb1d",
   "metadata": {},
   "outputs": [],
   "source": [
    "    def add_book(self, book):\n",
    "        self.collection.append(book)"
   ]
  },
  {
   "cell_type": "code",
   "execution_count": null,
   "id": "880bcade",
   "metadata": {},
   "outputs": [],
   "source": [
    "    def list_books(self):\n",
    "        for book in self.collection:\n",
    "            print(book)"
   ]
  },
  {
   "cell_type": "code",
   "execution_count": null,
   "id": "87115d10",
   "metadata": {},
   "outputs": [],
   "source": [
    "    def find_book(self, title):\n",
    "        for book in self.collection:\n",
    "            if book.title.lower() == title.lower():\n",
    "                return book\n",
    "        return None"
   ]
  },
  {
   "cell_type": "code",
   "execution_count": null,
   "id": "90ccbe8c",
   "metadata": {},
   "outputs": [],
   "source": [
    "    def available_books(self):\n",
    "        return [book for book in self.collection if not book.is_checked_out]"
   ]
  },
  {
   "cell_type": "code",
   "execution_count": null,
   "id": "d3bf27cd",
   "metadata": {},
   "outputs": [],
   "source": [
    "# Example usage:\n",
    "b1 = Book(\"1984\", \"George Orwell\", 1949)\n",
    "b2 = Book(\"The Alchemist\", \"Paulo Coelho\", 1988)"
   ]
  },
  {
   "cell_type": "code",
   "execution_count": null,
   "id": "a3967d7c",
   "metadata": {},
   "outputs": [],
   "source": [
    "lib = Library()\n",
    "lib.add_book(b1)\n",
    "lib.add_book(b2)"
   ]
  },
  {
   "cell_type": "code",
   "execution_count": null,
   "id": "2a96a1a6",
   "metadata": {},
   "outputs": [],
   "source": [
    "lib.list_books()\n",
    "b1.checkout()\n",
    "print(\"Available books:\", [str(book) for book in lib.available_books()])"
   ]
  },
  {
   "cell_type": "code",
   "execution_count": null,
   "id": "e5e16faa",
   "metadata": {},
   "outputs": [],
   "source": [
    "# --------------------------\n",
    "# Hard - Expense Tracker (Basic Implementation without CSV)\n",
    "# --------------------------"
   ]
  },
  {
   "cell_type": "code",
   "execution_count": null,
   "id": "16211772",
   "metadata": {},
   "outputs": [],
   "source": [
    "class Expense:\n",
    "    def __init__(self, category, amount, date):\n",
    "        self.category = category\n",
    "        self.amount = amount\n",
    "        self.date = date"
   ]
  },
  {
   "cell_type": "code",
   "execution_count": null,
   "id": "8e016f6f",
   "metadata": {},
   "outputs": [],
   "source": [
    "    def __str__(self):\n",
    "        return f\"{self.date} - {self.category}: ${self.amount}\""
   ]
  },
  {
   "cell_type": "code",
   "execution_count": null,
   "id": "1756bb81",
   "metadata": {},
   "outputs": [],
   "source": [
    "class ExpenseManager:\n",
    "    def __init__(self):\n",
    "        self.expenses = []"
   ]
  },
  {
   "cell_type": "code",
   "execution_count": null,
   "id": "de330269",
   "metadata": {},
   "outputs": [],
   "source": [
    "    def add_expense(self, expense):\n",
    "        self.expenses.append(expense)"
   ]
  },
  {
   "cell_type": "code",
   "execution_count": null,
   "id": "60815603",
   "metadata": {},
   "outputs": [],
   "source": [
    "    def view_expenses(self):\n",
    "        for expense in self.expenses:\n",
    "            print(expense)"
   ]
  },
  {
   "cell_type": "code",
   "execution_count": null,
   "id": "b8a665d5",
   "metadata": {},
   "outputs": [],
   "source": [
    "    def category_summary(self):\n",
    "        summary = {}\n",
    "        for expense in self.expenses:\n",
    "            summary[expense.category] = summary.get(expense.category, 0) + expense.amount\n",
    "        return summary"
   ]
  },
  {
   "cell_type": "code",
   "execution_count": null,
   "id": "3abf5880",
   "metadata": {},
   "outputs": [],
   "source": [
    "# Example usage:\n",
    "manager = ExpenseManager()\n",
    "manager.add_expense(Expense(\"Food\", 15.50, \"2025-08-15\"))\n",
    "manager.add_expense(Expense(\"Transport\", 7.25, \"2025-08-15\"))\n",
    "manager.view_expenses()\n",
    "print(\"Category Summary:\", manager.category_summary())"
   ]
  }
 ],
 "metadata": {},
 "nbformat": 4,
 "nbformat_minor": 5
}
